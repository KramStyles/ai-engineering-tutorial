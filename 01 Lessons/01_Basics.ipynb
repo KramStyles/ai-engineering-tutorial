{
 "cells": [
  {
   "cell_type": "code",
   "execution_count": 1,
   "metadata": {
    "ExecuteTime": {
     "end_time": "2025-09-01T23:22:51.920952Z",
     "start_time": "2025-09-01T23:22:51.908223Z"
    },
    "collapsed": true
   },
   "outputs": [
    {
     "data": {
      "text/plain": [
       "5"
      ]
     },
     "execution_count": 1,
     "metadata": {},
     "output_type": "execute_result"
    }
   ],
   "source": [
    "x = 5\n",
    "x"
   ]
  },
  {
   "cell_type": "code",
   "execution_count": 2,
   "metadata": {
    "ExecuteTime": {
     "end_time": "2025-09-01T23:22:51.928525Z",
     "start_time": "2025-09-01T23:22:51.909306Z"
    },
    "collapsed": false
   },
   "outputs": [
    {
     "name": "stdout",
     "output_type": "stream",
     "text": [
      "1 2\n"
     ]
    }
   ],
   "source": [
    "y, z = (1, 2)\n",
    "print(y, z)"
   ]
  },
  {
   "cell_type": "markdown",
   "metadata": {
    "collapsed": false
   },
   "source": [
    "Create a variable with name `x` and a value of 10. Execute.\n",
    "\n",
    "Tell the computer to show you the value of that variable without utilizing the `print()` function, similar to what you would do in Jupyter."
   ]
  },
  {
   "cell_type": "code",
   "execution_count": 3,
   "metadata": {
    "ExecuteTime": {
     "end_time": "2025-09-01T23:22:51.929165Z",
     "start_time": "2025-09-01T23:22:51.909934Z"
    },
    "collapsed": false
   },
   "outputs": [
    {
     "data": {
      "text/plain": [
       "10"
      ]
     },
     "execution_count": 3,
     "metadata": {},
     "output_type": "execute_result"
    }
   ],
   "source": [
    "x = 10\n",
    "x"
   ]
  },
  {
   "cell_type": "markdown",
   "metadata": {
    "collapsed": false
   },
   "source": [
    "On the same line, create four new variables: `a`, `b`, `c`, and `d`, that are equal to 10, 20, 30, and 40, respectively.\n",
    "\n",
    "Tell the computer to show you the value corresponding to the variable `b`.\n",
    "\n",
    "Do the same for `d`."
   ]
  },
  {
   "cell_type": "code",
   "execution_count": 4,
   "metadata": {
    "ExecuteTime": {
     "end_time": "2025-09-01T23:22:51.929684Z",
     "start_time": "2025-09-01T23:22:51.910201Z"
    },
    "collapsed": false
   },
   "outputs": [
    {
     "name": "stdout",
     "output_type": "stream",
     "text": [
      "20 40\n"
     ]
    }
   ],
   "source": [
    "a, b, c, d = 10, 20, 30, 40\n",
    "print(b, d)"
   ]
  },
  {
   "cell_type": "markdown",
   "metadata": {
    "collapsed": false
   },
   "source": [
    "Create a variable `a` equal to \"True\" and check its type."
   ]
  },
  {
   "cell_type": "code",
   "execution_count": 5,
   "metadata": {
    "ExecuteTime": {
     "end_time": "2025-09-01T23:22:51.930157Z",
     "start_time": "2025-09-01T23:22:51.910458Z"
    },
    "collapsed": false
   },
   "outputs": [
    {
     "data": {
      "text/plain": [
       "bool"
      ]
     },
     "execution_count": 5,
     "metadata": {},
     "output_type": "execute_result"
    }
   ],
   "source": [
    "a = True\n",
    "type(a)"
   ]
  },
  {
   "cell_type": "markdown",
   "metadata": {
    "collapsed": false
   },
   "source": [
    "The single equal sign is for assignments while the double equality sign is for checking equality between two values. It usually returns a boolean.\n",
    "a = 12\n",
    "a == 12 will return True."
   ]
  },
  {
   "cell_type": "code",
   "execution_count": 7,
   "metadata": {
    "ExecuteTime": {
     "end_time": "2025-09-01T23:32:59.763984Z",
     "start_time": "2025-09-01T23:32:59.757965Z"
    },
    "collapsed": false
   },
   "outputs": [
    {
     "name": "stdout",
     "output_type": "stream",
     "text": [
      "13\n"
     ]
    }
   ],
   "source": [
    "# You can use the backslash for line continuation.\n",
    "a = 5 + 2 + \\\n",
    "    6\n",
    "print(a)"
   ]
  },
  {
   "cell_type": "markdown",
   "metadata": {
    "collapsed": false
   },
   "source": [
    "Comparison Operators are simply <=, >=, !=, ==, <, > (5 * 3 <= 5 ** 3)\n",
    "Logical Operators are simply 'NOT', 'AND' & 'OR' e.g., True and True == True, False or True == True, not True == False\n",
    "Identity Operators are simply 'IS' & 'IS NOT' and they are similar to the equality signs e.g., 5 is not 6 == True"
   ]
  },
  {
   "cell_type": "markdown",
   "metadata": {
    "collapsed": false
   },
   "source": [
    "Assign 10 to the variable `x` and 25 to the variable `y`. In the same cell, create 2 conditional statements. Let the first one print `\"Both conditions are correct\"` if `x` is greater then 3 and `y` is greater than 13. Let the second one print `\"At least one of the conditions is false\"` if `x` is less than or equal to 3 or `y` is less than or equal to 13. Change the values assigned to `x` and `y` and re-run the cell to verify your code still works."
   ]
  },
  {
   "cell_type": "code",
   "execution_count": 4,
   "metadata": {
    "collapsed": false
   },
   "outputs": [
    {
     "name": "stdout",
     "output_type": "stream",
     "text": [
      "Both conditions are correct\n"
     ]
    }
   ],
   "source": [
    "x = 10\n",
    "y = 25\n",
    "\n",
    "if x > 3 and y > 13:\n",
    "    print(\"Both conditions are correct\")\n",
    "\n",
    "if x <= 3 or y <= 13:\n",
    "    print(\"At least one of the conditions is false\")"
   ]
  },
  {
   "cell_type": "markdown",
   "metadata": {
    "collapsed": false
   },
   "source": [
    "Keep the first two conditions of the code from the previous exercise (if x > 200, print out \"Big\"; If x > 100 and x <= 200, print out \"Average\").\n",
    "\n",
    "Add a new elif statement, so that, eventually, the program prints \"Small\" if x >= 0 and x <= 100, and \"Negative\" if x < 0."
   ]
  },
  {
   "cell_type": "code",
   "execution_count": 2,
   "metadata": {
    "collapsed": false
   },
   "outputs": [
    {
     "name": "stdout",
     "output_type": "stream",
     "text": [
      "Average\n"
     ]
    }
   ],
   "source": [
    "x = 187\n",
    "if x > 200:\n",
    "    print(\"Big\")\n",
    "elif 100 < x <= 200:\n",
    "    print(\"Average\")\n",
    "elif 0 < x <= 100:\n",
    "    print(\"Small\")\n",
    "else:\n",
    "    print(\"Negative\")"
   ]
  },
  {
   "cell_type": "markdown",
   "metadata": {},
   "source": [
    "It's safe to say that max and min can sort through a list of numbers and a list or tuple variable. E.g, checking max(1, 2, 3, 4, 5) and max((1, 2, 3, 4, 5)). First is a sequence of numbers while the second is a tuple containing a sequence of numbers and they still have the same result."
   ]
  },
  {
   "cell_type": "code",
   "execution_count": 8,
   "metadata": {},
   "outputs": [
    {
     "name": "stdout",
     "output_type": "stream",
     "text": [
      "5\n",
      "5\n"
     ]
    }
   ],
   "source": [
    "maximum = max((1, 2, 3, 4, 5))\n",
    "maximum_2 = max(1, 2, 3, 4, 5)\n",
    "print(maximum)\n",
    "print(maximum_2)"
   ]
  },
  {
   "cell_type": "code",
   "execution_count": 12,
   "metadata": {},
   "outputs": [
    {
     "name": "stdout",
     "output_type": "stream",
     "text": [
      "['John', 'George', 'Diana', 'Mark', 'Paul', 'Mark']\n",
      "3\n",
      "2\n",
      "['John', 'George', 'Diana', 'Mark', 'Paul', 'Mark', 'Laura', 'Bob']\n"
     ]
    }
   ],
   "source": [
    "users = [\"John\", \"Maria\", \"George\"]\n",
    "# Delete the second user\n",
    "del users[1]\n",
    "# Add new users using the append and extend methods\n",
    "users.append(\"Diana\")\n",
    "users.extend([\"Mark\", \"Paul\", \"Mark\"])\n",
    "print(users)\n",
    "# Get index of Mark\n",
    "index = users.index(\"Mark\")\n",
    "print(index) # Would only print the first index of Mark.\n",
    "# Count how many Marks are in the list\n",
    "count = users.count(\"Mark\")\n",
    "print(count)\n",
    "new_users = [\"Laura\", \"Bob\"]\n",
    "# Merge the two users into a new list with same variable name\n",
    "users = users + new_users\n",
    "print(users)"
   ]
  },
  {
   "cell_type": "code",
   "execution_count": 14,
   "metadata": {},
   "outputs": [
    {
     "data": {
      "text/plain": [
       "1"
      ]
     },
     "execution_count": 14,
     "metadata": {},
     "output_type": "execute_result"
    }
   ],
   "source": [
    "x = (1, 5, 2)\n",
    "y = (3, 4)\n",
    "x.index(5)"
   ]
  },
  {
   "cell_type": "markdown",
   "metadata": {},
   "source": [
    "Create a tuple, called Cars, with elements \"BMW\", \"Dodge\", and \"Ford\" in the given order. \n",
    "\n",
    "Access the second element of the Cars tuple."
   ]
  },
  {
   "cell_type": "code",
   "execution_count": 16,
   "metadata": {},
   "outputs": [
    {
     "data": {
      "text/plain": [
       "'Dodge'"
      ]
     },
     "execution_count": 16,
     "metadata": {},
     "output_type": "execute_result"
    }
   ],
   "source": [
    "Cars = (\"BMW\", \"Dodge\", \"Ford\")\n",
    "Cars[1]"
   ]
  },
  {
   "cell_type": "markdown",
   "metadata": {},
   "source": [
    "Create a function called rectangle_info() that takes the length and width of a rectangle as arguments. The function should then return the area and the perimeter of the rectangle. Call the function with arguments 2 and 10 to verify it worked correctly."
   ]
  },
  {
   "cell_type": "code",
   "execution_count": null,
   "metadata": {},
   "outputs": [],
   "source": [
    "def rectangle_info(length, width):\n",
    "    area = length * width\n",
    "    perimeter = 2 * (length + width)\n",
    "    return area, perimeter\n",
    "\n",
    "# Call the function with arguments 2 and 10\n",
    "result = rectangle_info(2, 10)\n",
    "print(result)  # Output should be (20, 24)"
   ]
  },
  {
   "cell_type": "markdown",
   "metadata": {},
   "source": [
    "Create a new dictionary called Price_list that contains the first five meals of the Menu dictionary as keys and assign the following five values as prices (assumed in dollars): 10, 5, 8, 12, 5. Start by Price_list = {}."
   ]
  },
  {
   "cell_type": "code",
   "execution_count": 17,
   "metadata": {},
   "outputs": [
    {
     "name": "stdout",
     "output_type": "stream",
     "text": [
      "{'Spaghetti': 10, 'Fries': 5, 'Cheeseburger': 8, 'Lasagna': 12, 'Soup': 5}\n"
     ]
    }
   ],
   "source": [
    "Menu = {'meal_1':'Spaghetti', 'meal_2':'Fries', 'meal_3':'Cheeseburger', 'meal_4':'Lasagna', 'meal_5':'Soup'}\n",
    "\n",
    "Price_list = {}\n",
    "dollars = [10, 5, 8, 12, 5]\n",
    "keys = Menu.values()\n",
    "for key, dollar in zip(keys, dollars):\n",
    "    Price_list[key] = dollar\n",
    "    \n",
    "print(Price_list)"
   ]
  }
 ],
 "metadata": {
  "kernelspec": {
   "display_name": "testing",
   "language": "python",
   "name": "python3"
  },
  "language_info": {
   "codemirror_mode": {
    "name": "ipython",
    "version": 3
   },
   "file_extension": ".py",
   "mimetype": "text/x-python",
   "name": "python",
   "nbconvert_exporter": "python",
   "pygments_lexer": "ipython3",
   "version": "3.9.23"
  }
 },
 "nbformat": 4,
 "nbformat_minor": 0
}
