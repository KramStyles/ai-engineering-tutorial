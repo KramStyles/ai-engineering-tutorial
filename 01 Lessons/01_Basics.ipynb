{
 "cells": [
  {
   "cell_type": "code",
   "execution_count": 7,
   "metadata": {
    "collapsed": true,
    "ExecuteTime": {
     "start_time": "2025-08-31T21:57:16.919624Z",
     "end_time": "2025-08-31T21:57:16.942985Z"
    }
   },
   "outputs": [
    {
     "data": {
      "text/plain": "5"
     },
     "execution_count": 7,
     "metadata": {},
     "output_type": "execute_result"
    }
   ],
   "source": [
    "x = 5\n",
    "x"
   ]
  },
  {
   "cell_type": "code",
   "execution_count": 12,
   "outputs": [
    {
     "name": "stdout",
     "output_type": "stream",
     "text": [
      "1 2\n"
     ]
    }
   ],
   "source": [
    "y, z = (1, 2)\n",
    "print(y, z)"
   ],
   "metadata": {
    "collapsed": false,
    "ExecuteTime": {
     "start_time": "2025-08-31T21:58:12.754911Z",
     "end_time": "2025-08-31T21:58:12.760775Z"
    }
   }
  },
  {
   "cell_type": "markdown",
   "source": [
    "Create a variable with name `x` and a value of 10. Execute.\n",
    "\n",
    "Tell the computer to show you the value of that variable without utilizing the `print()` function, similar to what you would do in Jupyter."
   ],
   "metadata": {
    "collapsed": false
   }
  },
  {
   "cell_type": "code",
   "execution_count": 13,
   "outputs": [
    {
     "data": {
      "text/plain": "10"
     },
     "execution_count": 13,
     "metadata": {},
     "output_type": "execute_result"
    }
   ],
   "source": [
    "x = 10\n",
    "x"
   ],
   "metadata": {
    "collapsed": false,
    "ExecuteTime": {
     "start_time": "2025-08-31T22:11:21.557375Z",
     "end_time": "2025-08-31T22:11:21.609450Z"
    }
   }
  },
  {
   "cell_type": "markdown",
   "source": [
    "On the same line, create four new variables: `a`, `b`, `c`, and `d`, that are equal to 10, 20, 30, and 40, respectively.\n",
    "\n",
    "Tell the computer to show you the value corresponding to the variable `b`.\n",
    "\n",
    "Do the same for `d`."
   ],
   "metadata": {
    "collapsed": false
   }
  },
  {
   "cell_type": "code",
   "execution_count": null,
   "outputs": [],
   "source": [
    "a, b, c, d = 10, 20, 30, 40\n",
    "print(b, d)"
   ],
   "metadata": {
    "collapsed": false
   }
  },
  {
   "cell_type": "markdown",
   "source": [
    "Create a variable `a` equal to \"True\" and check its type."
   ],
   "metadata": {
    "collapsed": false
   }
  },
  {
   "cell_type": "code",
   "execution_count": 14,
   "outputs": [
    {
     "data": {
      "text/plain": "bool"
     },
     "execution_count": 14,
     "metadata": {},
     "output_type": "execute_result"
    }
   ],
   "source": [
    "a = True\n",
    "type(a)"
   ],
   "metadata": {
    "collapsed": false,
    "ExecuteTime": {
     "start_time": "2025-08-31T22:26:46.736322Z",
     "end_time": "2025-08-31T22:26:46.773117Z"
    }
   }
  }
 ],
 "metadata": {
  "kernelspec": {
   "display_name": "Python 3",
   "language": "python",
   "name": "python3"
  },
  "language_info": {
   "codemirror_mode": {
    "name": "ipython",
    "version": 2
   },
   "file_extension": ".py",
   "mimetype": "text/x-python",
   "name": "python",
   "nbconvert_exporter": "python",
   "pygments_lexer": "ipython2",
   "version": "2.7.6"
  }
 },
 "nbformat": 4,
 "nbformat_minor": 0
}
