{
 "cells": [
  {
   "cell_type": "code",
   "execution_count": 1,
   "metadata": {
    "collapsed": true,
    "ExecuteTime": {
     "start_time": "2025-09-01T23:22:51.908223Z",
     "end_time": "2025-09-01T23:22:51.920952Z"
    }
   },
   "outputs": [
    {
     "data": {
      "text/plain": "5"
     },
     "execution_count": 1,
     "metadata": {},
     "output_type": "execute_result"
    }
   ],
   "source": [
    "x = 5\n",
    "x"
   ]
  },
  {
   "cell_type": "code",
   "execution_count": 2,
   "outputs": [
    {
     "name": "stdout",
     "output_type": "stream",
     "text": [
      "1 2\n"
     ]
    }
   ],
   "source": [
    "y, z = (1, 2)\n",
    "print(y, z)"
   ],
   "metadata": {
    "collapsed": false,
    "ExecuteTime": {
     "start_time": "2025-09-01T23:22:51.909306Z",
     "end_time": "2025-09-01T23:22:51.928525Z"
    }
   }
  },
  {
   "cell_type": "markdown",
   "source": [
    "Create a variable with name `x` and a value of 10. Execute.\n",
    "\n",
    "Tell the computer to show you the value of that variable without utilizing the `print()` function, similar to what you would do in Jupyter."
   ],
   "metadata": {
    "collapsed": false
   }
  },
  {
   "cell_type": "code",
   "execution_count": 3,
   "outputs": [
    {
     "data": {
      "text/plain": "10"
     },
     "execution_count": 3,
     "metadata": {},
     "output_type": "execute_result"
    }
   ],
   "source": [
    "x = 10\n",
    "x"
   ],
   "metadata": {
    "collapsed": false,
    "ExecuteTime": {
     "start_time": "2025-09-01T23:22:51.909934Z",
     "end_time": "2025-09-01T23:22:51.929165Z"
    }
   }
  },
  {
   "cell_type": "markdown",
   "source": [
    "On the same line, create four new variables: `a`, `b`, `c`, and `d`, that are equal to 10, 20, 30, and 40, respectively.\n",
    "\n",
    "Tell the computer to show you the value corresponding to the variable `b`.\n",
    "\n",
    "Do the same for `d`."
   ],
   "metadata": {
    "collapsed": false
   }
  },
  {
   "cell_type": "code",
   "execution_count": 4,
   "outputs": [
    {
     "name": "stdout",
     "output_type": "stream",
     "text": [
      "20 40\n"
     ]
    }
   ],
   "source": [
    "a, b, c, d = 10, 20, 30, 40\n",
    "print(b, d)"
   ],
   "metadata": {
    "collapsed": false,
    "ExecuteTime": {
     "start_time": "2025-09-01T23:22:51.910201Z",
     "end_time": "2025-09-01T23:22:51.929684Z"
    }
   }
  },
  {
   "cell_type": "markdown",
   "source": [
    "Create a variable `a` equal to \"True\" and check its type."
   ],
   "metadata": {
    "collapsed": false
   }
  },
  {
   "cell_type": "code",
   "execution_count": 5,
   "outputs": [
    {
     "data": {
      "text/plain": "bool"
     },
     "execution_count": 5,
     "metadata": {},
     "output_type": "execute_result"
    }
   ],
   "source": [
    "a = True\n",
    "type(a)"
   ],
   "metadata": {
    "collapsed": false,
    "ExecuteTime": {
     "start_time": "2025-09-01T23:22:51.910458Z",
     "end_time": "2025-09-01T23:22:51.930157Z"
    }
   }
  },
  {
   "cell_type": "markdown",
   "source": [
    "The single equal sign is for assignments while the double equality sign is for checking equality between two values. It usually returns a boolean.\n",
    "a = 12\n",
    "a == 12 will return True."
   ],
   "metadata": {
    "collapsed": false
   }
  },
  {
   "cell_type": "code",
   "execution_count": 7,
   "outputs": [
    {
     "name": "stdout",
     "output_type": "stream",
     "text": [
      "13\n"
     ]
    }
   ],
   "source": [
    "# You can use the backslash for line continuation.\n",
    "a = 5 + 2 + \\\n",
    "    6\n",
    "print(a)"
   ],
   "metadata": {
    "collapsed": false,
    "ExecuteTime": {
     "start_time": "2025-09-01T23:32:59.757965Z",
     "end_time": "2025-09-01T23:32:59.763984Z"
    }
   }
  },
  {
   "cell_type": "markdown",
   "source": [
    "Comparison Operators are simply <=, >=, !=, ==, <, > (5 * 3 <= 5 ** 3)\n",
    "Logical Operators are simply 'NOT', 'AND' & 'OR' e.g., True and True == True, False or True == True, not True == False\n",
    "Identity Operators are simply 'IS' & 'IS NOT' and they are similar to the equality signs e.g., 5 is not 6 == True"
   ],
   "metadata": {
    "collapsed": false
   }
  },
  {
   "cell_type": "markdown",
   "source": [
    "Assign 10 to the variable `x` and 25 to the variable `y`. In the same cell, create 2 conditional statements. Let the first one print `\"Both conditions are correct\"` if `x` is greater then 3 and `y` is greater than 13. Let the second one print `\"At least one of the conditions is false\"` if `x` is less than or equal to 3 or `y` is less than or equal to 13. Change the values assigned to `x` and `y` and re-run the cell to verify your code still works."
   ],
   "metadata": {
    "collapsed": false
   }
  },
  {
   "cell_type": "code",
   "execution_count": null,
   "outputs": [],
   "source": [
    "x = 10\n",
    "y = 25\n",
    "\n",
    "if x > 3 and y > 13:\n",
    "    print(\"Both conditions are correct\")\n",
    "\n",
    "if x <= 3 or y <= 13:\n",
    "    print(\"At least one of the conditions is false\")"
   ],
   "metadata": {
    "collapsed": false
   }
  },
  {
   "cell_type": "markdown",
   "source": [
    "Keep the first two conditions of the code from the previous exercise (if x > 200, print out \"Big\"; If x > 100 and x <= 200, print out \"Average\").\n",
    "\n",
    "Add a new elif statement, so that, eventually, the program prints \"Small\" if x >= 0 and x <= 100, and \"Negative\" if x < 0. "
   ],
   "metadata": {
    "collapsed": false
   }
  },
  {
   "cell_type": "code",
   "execution_count": null,
   "outputs": [],
   "source": [
    "x = 187\n",
    "if x > 200:\n",
    "    print(\"Big\")\n",
    "elif 100 < x <= 200:\n",
    "    print(\"Average\")\n",
    "elif 0 < x <= 100:\n",
    "    print(\"Small\")\n",
    "else:\n",
    "    print(\"Negative\")"
   ],
   "metadata": {
    "collapsed": false
   }
  }
 ],
 "metadata": {
  "kernelspec": {
   "display_name": "Python 3",
   "language": "python",
   "name": "python3"
  },
  "language_info": {
   "codemirror_mode": {
    "name": "ipython",
    "version": 2
   },
   "file_extension": ".py",
   "mimetype": "text/x-python",
   "name": "python",
   "nbconvert_exporter": "python",
   "pygments_lexer": "ipython2",
   "version": "2.7.6"
  }
 },
 "nbformat": 4,
 "nbformat_minor": 0
}
